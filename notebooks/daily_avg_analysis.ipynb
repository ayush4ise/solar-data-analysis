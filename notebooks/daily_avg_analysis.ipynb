{
 "cells": [
  {
   "cell_type": "markdown",
   "metadata": {},
   "source": [
    "## Data Preprocessing"
   ]
  },
  {
   "cell_type": "markdown",
   "metadata": {},
   "source": [
    "- Collecting all the data for Jakarta in one DataFrame"
   ]
  },
  {
   "cell_type": "code",
   "execution_count": 2,
   "metadata": {},
   "outputs": [],
   "source": [
    "import pandas as pd\n",
    "\n",
    "data_jakarta = pd.read_csv('1980-2023 renewable energy data/ninja_pv_-7.2623_112.7361_1980.csv', header=3)\n",
    "name = \"1980-2023 renewable energy data/ninja_pv_-7.2623_112.7361_\"\n",
    "\n",
    "for i in range(1981, 2024):\n",
    "    data_jakarta = pd.concat([data_jakarta, pd.read_csv(name + str(i) + '.csv', header=3)])\n",
    "\n",
    "data_jakarta.drop(columns=['time'], inplace=True)\n",
    "data_jakarta['local_time'] = pd.to_datetime(data_jakarta['local_time'])\n",
    "\n",
    "# print(\"Info:\\n\", data_jakarta.info())\n",
    "# print(\"Head:\\n\", data_jakarta.head())\n",
    "# print(\"Tail:\\n\", data_jakarta.tail())"
   ]
  },
  {
   "cell_type": "markdown",
   "metadata": {},
   "source": [
    "- Summimg up hourly data to turn it into daily data"
   ]
  },
  {
   "cell_type": "code",
   "execution_count": 3,
   "metadata": {},
   "outputs": [
    {
     "data": {
      "text/html": [
       "<div>\n",
       "<style scoped>\n",
       "    .dataframe tbody tr th:only-of-type {\n",
       "        vertical-align: middle;\n",
       "    }\n",
       "\n",
       "    .dataframe tbody tr th {\n",
       "        vertical-align: top;\n",
       "    }\n",
       "\n",
       "    .dataframe thead th {\n",
       "        text-align: right;\n",
       "    }\n",
       "</style>\n",
       "<table border=\"1\" class=\"dataframe\">\n",
       "  <thead>\n",
       "    <tr style=\"text-align: right;\">\n",
       "      <th></th>\n",
       "      <th>local_time</th>\n",
       "      <th>electricity</th>\n",
       "    </tr>\n",
       "  </thead>\n",
       "  <tbody>\n",
       "    <tr>\n",
       "      <th>0</th>\n",
       "      <td>1980-01-01</td>\n",
       "      <td>2812.179</td>\n",
       "    </tr>\n",
       "    <tr>\n",
       "      <th>1</th>\n",
       "      <td>1980-01-02</td>\n",
       "      <td>1942.609</td>\n",
       "    </tr>\n",
       "    <tr>\n",
       "      <th>2</th>\n",
       "      <td>1980-01-03</td>\n",
       "      <td>1671.945</td>\n",
       "    </tr>\n",
       "    <tr>\n",
       "      <th>3</th>\n",
       "      <td>1980-01-04</td>\n",
       "      <td>4477.104</td>\n",
       "    </tr>\n",
       "    <tr>\n",
       "      <th>4</th>\n",
       "      <td>1980-01-05</td>\n",
       "      <td>3781.536</td>\n",
       "    </tr>\n",
       "  </tbody>\n",
       "</table>\n",
       "</div>"
      ],
      "text/plain": [
       "   local_time  electricity\n",
       "0  1980-01-01     2812.179\n",
       "1  1980-01-02     1942.609\n",
       "2  1980-01-03     1671.945\n",
       "3  1980-01-04     4477.104\n",
       "4  1980-01-05     3781.536"
      ]
     },
     "execution_count": 3,
     "metadata": {},
     "output_type": "execute_result"
    }
   ],
   "source": [
    "data_jakarta['local_time'] = data_jakarta['local_time'].dt.date\n",
    "data_jakarta = data_jakarta.groupby('local_time').sum()\n",
    "data_jakarta.reset_index(inplace=True)\n",
    "\n",
    "data_jakarta.head()"
   ]
  },
  {
   "cell_type": "markdown",
   "metadata": {},
   "source": [
    "- Calculating the daily average temperature for each month\n",
    "- Taking the transformed data and saving it to an Excel file for further analysis"
   ]
  },
  {
   "cell_type": "code",
   "execution_count": 10,
   "metadata": {},
   "outputs": [
    {
     "data": {
      "text/html": [
       "<div>\n",
       "<style scoped>\n",
       "    .dataframe tbody tr th:only-of-type {\n",
       "        vertical-align: middle;\n",
       "    }\n",
       "\n",
       "    .dataframe tbody tr th {\n",
       "        vertical-align: top;\n",
       "    }\n",
       "\n",
       "    .dataframe thead th {\n",
       "        text-align: right;\n",
       "    }\n",
       "</style>\n",
       "<table border=\"1\" class=\"dataframe\">\n",
       "  <thead>\n",
       "    <tr style=\"text-align: right;\">\n",
       "      <th></th>\n",
       "      <th>1</th>\n",
       "      <th>2</th>\n",
       "      <th>3</th>\n",
       "      <th>4</th>\n",
       "      <th>5</th>\n",
       "      <th>6</th>\n",
       "      <th>7</th>\n",
       "      <th>8</th>\n",
       "      <th>9</th>\n",
       "      <th>10</th>\n",
       "      <th>11</th>\n",
       "      <th>12</th>\n",
       "    </tr>\n",
       "  </thead>\n",
       "  <tbody>\n",
       "    <tr>\n",
       "      <th>1981</th>\n",
       "      <td>3532.276774</td>\n",
       "      <td>3820.705000</td>\n",
       "      <td>5398.487516</td>\n",
       "      <td>4515.185100</td>\n",
       "      <td>4999.026548</td>\n",
       "      <td>6043.605833</td>\n",
       "      <td>5975.734452</td>\n",
       "      <td>7225.329710</td>\n",
       "      <td>5990.850900</td>\n",
       "      <td>5848.291355</td>\n",
       "      <td>3697.957733</td>\n",
       "      <td>3270.727613</td>\n",
       "    </tr>\n",
       "    <tr>\n",
       "      <th>1982</th>\n",
       "      <td>4196.326290</td>\n",
       "      <td>4253.705357</td>\n",
       "      <td>4378.094710</td>\n",
       "      <td>5131.017533</td>\n",
       "      <td>6268.580065</td>\n",
       "      <td>6472.317000</td>\n",
       "      <td>6820.661903</td>\n",
       "      <td>6968.873806</td>\n",
       "      <td>7006.407700</td>\n",
       "      <td>6286.224129</td>\n",
       "      <td>6089.551467</td>\n",
       "      <td>4072.249258</td>\n",
       "    </tr>\n",
       "    <tr>\n",
       "      <th>1983</th>\n",
       "      <td>4314.323000</td>\n",
       "      <td>4635.159964</td>\n",
       "      <td>4019.452258</td>\n",
       "      <td>4494.310533</td>\n",
       "      <td>4678.313613</td>\n",
       "      <td>6131.512033</td>\n",
       "      <td>6611.597484</td>\n",
       "      <td>7048.137484</td>\n",
       "      <td>6975.444400</td>\n",
       "      <td>5728.733323</td>\n",
       "      <td>4284.487167</td>\n",
       "      <td>4373.479548</td>\n",
       "    </tr>\n",
       "    <tr>\n",
       "      <th>1984</th>\n",
       "      <td>3798.063452</td>\n",
       "      <td>4054.914690</td>\n",
       "      <td>4787.995613</td>\n",
       "      <td>4928.569333</td>\n",
       "      <td>5176.562968</td>\n",
       "      <td>6364.320633</td>\n",
       "      <td>6410.060742</td>\n",
       "      <td>6641.491161</td>\n",
       "      <td>5759.261667</td>\n",
       "      <td>5637.447161</td>\n",
       "      <td>4693.925467</td>\n",
       "      <td>3525.820129</td>\n",
       "    </tr>\n",
       "    <tr>\n",
       "      <th>1985</th>\n",
       "      <td>4716.085677</td>\n",
       "      <td>3629.220679</td>\n",
       "      <td>4843.494806</td>\n",
       "      <td>4966.439467</td>\n",
       "      <td>5815.099000</td>\n",
       "      <td>5544.415767</td>\n",
       "      <td>5923.945097</td>\n",
       "      <td>6911.108903</td>\n",
       "      <td>6572.106267</td>\n",
       "      <td>6194.059548</td>\n",
       "      <td>4451.898367</td>\n",
       "      <td>4086.839032</td>\n",
       "    </tr>\n",
       "  </tbody>\n",
       "</table>\n",
       "</div>"
      ],
      "text/plain": [
       "               1            2            3            4            5   \\\n",
       "1981  3532.276774  3820.705000  5398.487516  4515.185100  4999.026548   \n",
       "1982  4196.326290  4253.705357  4378.094710  5131.017533  6268.580065   \n",
       "1983  4314.323000  4635.159964  4019.452258  4494.310533  4678.313613   \n",
       "1984  3798.063452  4054.914690  4787.995613  4928.569333  5176.562968   \n",
       "1985  4716.085677  3629.220679  4843.494806  4966.439467  5815.099000   \n",
       "\n",
       "               6            7            8            9            10  \\\n",
       "1981  6043.605833  5975.734452  7225.329710  5990.850900  5848.291355   \n",
       "1982  6472.317000  6820.661903  6968.873806  7006.407700  6286.224129   \n",
       "1983  6131.512033  6611.597484  7048.137484  6975.444400  5728.733323   \n",
       "1984  6364.320633  6410.060742  6641.491161  5759.261667  5637.447161   \n",
       "1985  5544.415767  5923.945097  6911.108903  6572.106267  6194.059548   \n",
       "\n",
       "               11           12  \n",
       "1981  3697.957733  3270.727613  \n",
       "1982  6089.551467  4072.249258  \n",
       "1983  4284.487167  4373.479548  \n",
       "1984  4693.925467  3525.820129  \n",
       "1985  4451.898367  4086.839032  "
      ]
     },
     "execution_count": 10,
     "metadata": {},
     "output_type": "execute_result"
    }
   ],
   "source": [
    "monthly_means = {}\n",
    "data_jakarta['local_time'] = pd.to_datetime(data_jakarta['local_time'])\n",
    "\n",
    "for month in range(1,13):\n",
    "    monthly_means[month] = [data_jakarta[(data_jakarta['local_time'].dt.year == year) & (data_jakarta['local_time'].dt.month == month)]['electricity'].mean() for year in range(1981, 2024)]\n",
    "\n",
    "monthly_means = pd.DataFrame(monthly_means, index=range(1981, 2024))\n",
    "monthly_means.to_excel('transformed_data/monthly_daily_means_jakarta.xlsx')\n",
    "\n",
    "monthly_means.head()"
   ]
  },
  {
   "cell_type": "markdown",
   "metadata": {},
   "source": [
    "## Data Visualization"
   ]
  },
  {
   "cell_type": "markdown",
   "metadata": {},
   "source": [
    "- Plotting graphs for average daily temperature for each month, across the years\n",
    "- Saving the visualizations"
   ]
  },
  {
   "cell_type": "code",
   "execution_count": 19,
   "metadata": {},
   "outputs": [],
   "source": [
    "import matplotlib.pyplot as plt\n",
    "\n",
    "month_to_name = {1: 'January', 2: 'February', 3: 'March', 4: 'April', 5: 'May', 6: 'June', 7: 'July', 8: 'August', 9: 'September', 10: 'October', 11: 'November', 12: 'December'}\n",
    "\n",
    "for month in range(1, 13):\n",
    "    name = month_to_name[month]\n",
    "    # Create the plot with a larger figure size\n",
    "    plt.figure(figsize=(10, 6))\n",
    "\n",
    "    # Plotting the data with customizations\n",
    "    plt.plot(monthly_means[month], label=name, color='blue', linestyle='-', linewidth=2, marker='o', markersize=6)\n",
    "\n",
    "    # Adding grid lines\n",
    "    plt.grid(True, linestyle='--', alpha=0.6)\n",
    "\n",
    "    # Customizing the labels and title\n",
    "    plt.xlabel('Year', fontsize=14, fontweight='bold')\n",
    "    plt.ylabel('Electricity (kWh)', fontsize=14, fontweight='bold')\n",
    "    plt.title(f'Average Daily Electricity Production in Jakarta [{name}]', fontsize=16, fontweight='bold')\n",
    "\n",
    "    # Adjusting the ticks\n",
    "    plt.xticks(fontsize=12)\n",
    "    plt.yticks(fontsize=12)\n",
    "\n",
    "    # Adding limit to the y-axis\n",
    "    plt.ylim(0, 10000)\n",
    "\n",
    "    # Save the plot\n",
    "    plt.savefig(f'visualizations\\daily_avg_plots\\{name}.png')\n",
    "\n",
    "    # Close the plot\n",
    "    plt.close()"
   ]
  },
  {
   "cell_type": "markdown",
   "metadata": {},
   "source": [
    "## ANOVAs"
   ]
  },
  {
   "cell_type": "markdown",
   "metadata": {},
   "source": [
    "- Performing ANOVA on the data to check if the means of the data (for a given month) are different for different years\n",
    "- Storing the results in ```results``` folder"
   ]
  },
  {
   "cell_type": "code",
   "execution_count": 9,
   "metadata": {},
   "outputs": [
    {
     "data": {
      "text/plain": [
       "{1: {'f': 6.307179688696506, 'p': 4.529831111210825e-31},\n",
       " 2: {'f': 5.897754777205716, 'p': 4.361069141739825e-28},\n",
       " 3: {'f': 7.9329495762371645, 'p': 9.45388202481601e-42},\n",
       " 4: {'f': 7.794974857729912, 'p': 1.1342161381146498e-40},\n",
       " 5: {'f': 12.356986951165068, 'p': 7.198778386484757e-70},\n",
       " 6: {'f': 16.364336535588595, 'p': 5.326167953220151e-93},\n",
       " 7: {'f': 9.713140355740302, 'p': 2.8373397904842e-53},\n",
       " 8: {'f': 7.342012505623559, 'p': 7.029592102433699e-38},\n",
       " 9: {'f': 13.363574475054781, 'p': 1.6004997301014666e-75},\n",
       " 10: {'f': 17.26058976858006, 'p': 8.825476015375355e-99},\n",
       " 11: {'f': 9.990996172546776, 'p': 9.190732646743703e-55},\n",
       " 12: {'f': 5.872161998222271, 'p': 3.3134794512915533e-28}}"
      ]
     },
     "execution_count": 9,
     "metadata": {},
     "output_type": "execute_result"
    }
   ],
   "source": [
    "from scipy.stats import f_oneway\n",
    "\n",
    "# data_jakarta['local_time'] = pd.to_datetime(data_jakarta['local_time'])\n",
    "\n",
    "def anova_test(data):\n",
    "    f, p = f_oneway(*data)\n",
    "    return f, p\n",
    "\n",
    "data_anova = {}\n",
    "\n",
    "for month in range(1, 13):\n",
    "    data = [list(data_jakarta[(data_jakarta['local_time'].dt.year == year) & (data_jakarta['local_time'].dt.month == month)]['electricity']) for year in range(1980, 2024)]\n",
    "    f, p = anova_test(data)\n",
    "    data_anova[month] = {'f': f, 'p': p}\n",
    "\n",
    "data_anova"
   ]
  },
  {
   "cell_type": "code",
   "execution_count": 20,
   "metadata": {},
   "outputs": [],
   "source": [
    "pd.DataFrame(data_anova).to_excel(\"results/daily/anova_results.xlsx\")"
   ]
  },
  {
   "cell_type": "markdown",
   "metadata": {},
   "source": [
    "- ANOVA tests are performed for a given month in groups of 4 years (1980-1983, 1984-1987 and so on)"
   ]
  },
  {
   "cell_type": "code",
   "execution_count": 21,
   "metadata": {},
   "outputs": [
    {
     "data": {
      "text/plain": [
       "{1: {'f': 6.655992405310937, 'p': 3.7679443613724643e-10},\n",
       " 2: {'f': 10.49474290427925, 'p': 3.372965947604517e-17},\n",
       " 3: {'f': 10.841346686523174, 'p': 6.5318855116623494e-18},\n",
       " 4: {'f': 7.778641337791804, 'p': 3.334788256358022e-12},\n",
       " 5: {'f': 15.520688509385687, 'p': 1.2997186376373452e-26},\n",
       " 6: {'f': 11.08669408808854, 'p': 2.415585825622279e-18},\n",
       " 7: {'f': 5.423825046890683, 'p': 6.449279335218695e-08},\n",
       " 8: {'f': 8.603779530760464, 'p': 9.595924724844103e-14},\n",
       " 9: {'f': 9.123674186229115, 'p': 1.0786861327894861e-14},\n",
       " 10: {'f': 15.059178063491892, 'p': 9.286290765554239e-26},\n",
       " 11: {'f': 11.074927877858034, 'p': 2.5404589515007754e-18},\n",
       " 12: {'f': 10.458782411134122, 'p': 3.3768082993751885e-17}}"
      ]
     },
     "execution_count": 21,
     "metadata": {},
     "output_type": "execute_result"
    }
   ],
   "source": [
    "data_anova_4 = {}\n",
    "\n",
    "for month in range(1, 13):\n",
    "    data = [list(data_jakarta[(data_jakarta['local_time'].dt.year == year) & (data_jakarta['local_time'].dt.month == month)]['electricity']) for year in range(1980, 2024)]\n",
    "    # make further 4 year groups in the data\n",
    "    # each year element is already in a list, so make a big list with the 4 year data\n",
    "    data = [data[i]+data[i+1]+data[i+2]+data[i+3] for i in range(0, len(data), 4)]\n",
    "\n",
    "    f, p = anova_test(data)\n",
    "    data_anova_4[month] = {'f': f, 'p': p}\n",
    "\n",
    "data_anova_4"
   ]
  },
  {
   "cell_type": "code",
   "execution_count": 22,
   "metadata": {},
   "outputs": [],
   "source": [
    "pd.DataFrame(data_anova_4).to_excel(\"results/daily/anova_4Yblocks_jakarta.xlsx\")"
   ]
  },
  {
   "cell_type": "markdown",
   "metadata": {},
   "source": [
    "- ANOVA tests are performed for a given month in groups of 11 years (1980-1990, 1991-2001, 2002-2012, 2013-2023)"
   ]
  },
  {
   "cell_type": "code",
   "execution_count": 23,
   "metadata": {},
   "outputs": [
    {
     "data": {
      "text/plain": [
       "{1: {'f': 15.616912163057881, 'p': 5.457110714032792e-10},\n",
       " 2: {'f': 29.32180548549421, 'p': 2.5731313978669222e-18},\n",
       " 3: {'f': 18.320834721813984, 'p': 1.1781475267874577e-11},\n",
       " 4: {'f': 30.258046864452226, 'p': 6.458332623558815e-19},\n",
       " 5: {'f': 27.81867412759177, 'p': 1.8497844885423474e-17},\n",
       " 6: {'f': 29.035091417780528, 'p': 3.53324620962379e-18},\n",
       " 7: {'f': 9.6101835560704, 'p': 2.7979468726573845e-06},\n",
       " 8: {'f': 3.511806393354974, 'p': 0.014769878377746045},\n",
       " 9: {'f': 3.0394886473338514, 'p': 0.02811191049725237},\n",
       " 10: {'f': 6.620760745334331, 'p': 0.0001934561521948307},\n",
       " 11: {'f': 14.458276737660725, 'p': 2.861564181590436e-09},\n",
       " 12: {'f': 23.451951448816217, 'p': 8.421429917338259e-15}}"
      ]
     },
     "execution_count": 23,
     "metadata": {},
     "output_type": "execute_result"
    }
   ],
   "source": [
    "data_anova_11 = {}\n",
    "\n",
    "for month in range(1, 13):\n",
    "    data = [list(data_jakarta[(data_jakarta['local_time'].dt.year == year) & (data_jakarta['local_time'].dt.month == month)]['electricity']) for year in range(1980, 2024)]\n",
    "    # make further 11 year groups in the data\n",
    "    # each year element is already in a list, so make a big list with the 4 year data\n",
    "    data = [data[i]+data[i+1]+data[i+2]+data[i+3]+data[i+4]+data[i+5]+data[i+6]+data[i+7]+data[i+8]+data[i+9]+data[i+10] for i in range(0, len(data), 11)]\n",
    "\n",
    "    f, p = anova_test(data)\n",
    "    data_anova_11[month] = {'f': f, 'p': p}\n",
    "\n",
    "data_anova_11"
   ]
  },
  {
   "cell_type": "code",
   "execution_count": 24,
   "metadata": {},
   "outputs": [],
   "source": [
    "pd.DataFrame(data_anova_11).to_excel(\"results/daily/anova_11Yblocks_jakarta.xlsx\")"
   ]
  }
 ],
 "metadata": {
  "kernelspec": {
   "display_name": "Python 3",
   "language": "python",
   "name": "python3"
  },
  "language_info": {
   "codemirror_mode": {
    "name": "ipython",
    "version": 3
   },
   "file_extension": ".py",
   "mimetype": "text/x-python",
   "name": "python",
   "nbconvert_exporter": "python",
   "pygments_lexer": "ipython3",
   "version": "3.11.0"
  }
 },
 "nbformat": 4,
 "nbformat_minor": 2
}
